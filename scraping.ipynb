{
 "cells": [
  {
   "cell_type": "code",
   "execution_count": 1,
   "metadata": {},
   "outputs": [],
   "source": [
    "import snscrape.modules.twitter as sntwitter"
   ]
  },
  {
   "cell_type": "code",
   "execution_count": 9,
   "metadata": {},
   "outputs": [
    {
     "ename": "AttributeError",
     "evalue": "module 'snscrape' has no attribute '__version__'",
     "output_type": "error",
     "traceback": [
      "\u001b[1;31m---------------------------------------------------------------------------\u001b[0m",
      "\u001b[1;31mAttributeError\u001b[0m                            Traceback (most recent call last)",
      "Cell \u001b[1;32mIn[9], line 2\u001b[0m\n\u001b[0;32m      1\u001b[0m \u001b[39mimport\u001b[39;00m \u001b[39msnscrape\u001b[39;00m\n\u001b[1;32m----> 2\u001b[0m snscrape\u001b[39m.\u001b[39;49m__version__\n",
      "\u001b[1;31mAttributeError\u001b[0m: module 'snscrape' has no attribute '__version__'"
     ]
    }
   ],
   "source": [
    "import snscrape\n",
    "snscrape.__version__"
   ]
  },
  {
   "cell_type": "code",
   "execution_count": 9,
   "metadata": {},
   "outputs": [
    {
     "name": "stderr",
     "output_type": "stream",
     "text": [
      "C:\\Users\\syair dafiq\\AppData\\Local\\Temp\\ipykernel_11116\\2950995507.py:8: FutureWarning: content is deprecated, use rawContent instead\n",
      "  tweets.append([tweet.content])\n"
     ]
    }
   ],
   "source": [
    "query = \"@traveloka -filter:links filter:replies lang:id\"\n",
    "tweets = []\n",
    "# Using TwitterSearchScraper to scrape\n",
    "# Using TwitterSearchScraper to scrape\n",
    "for i,tweet in enumerate(sntwitter.TwitterSearchScraper(query).get_items()):\n",
    "    if i>=100:\n",
    "        break\n",
    "    tweets.append([tweet.content])"
   ]
  },
  {
   "cell_type": "code",
   "execution_count": 10,
   "metadata": {},
   "outputs": [
    {
     "data": {
      "text/plain": [
       "[['@traveloka Terima kasih 🙏'],\n",
       " ['@SSusaneey Aamiin! Semoga segera terwujud di tahun 2023 ya, Kak Susan 💙\\n\\n\\xa0-AM'],\n",
       " ['@traveloka Pagi Admin, mau tanya kenapa skrg ditraveloka penerbangan ke Iran ngga ada semua ya ? \\n\\nTerimakasih'],\n",
       " ['@adm1nwaras Halo, Kak Fata. Mengenai hal tersebut, kamu bisa langsung konfirmasi ke pihak\\nKAI dengan menghubungi call center PT. KAI di nomor 021 – 121. Terima kasih. -WR'],\n",
       " ['@traveloka halo min.. kenapa ya sekarang ga bisa add tiket ke KAIAccess kalau pesan tiket nya dari traveloka? mau print boarding pass jadi harus ke counter'],\n",
       " ['@humminglzbrd Halo Kak. Pada dasarnya kamu bisa centang salah satu nama penumpang saat ajukan\\nrefund di aplikasi. Namun untuk pengecekan lebih lanjut pesanan kamu, infoin\\nnomor pesanan Traveloka kamu via DM dulu yuk. Mimin tunggu ya. Terima kasih. -MZ'],\n",
       " ['@traveloka min, saya beli 4 tiket pesawat dalam 1 kode booking. kalau mau cancel 1 orang saja apakah bisa?'],\n",
       " ['Dear @traveloka Segera tanggapi komplain saya no. Laporan #30462475'],\n",
       " ['@DDPRXYZ Hai, Kak. Agar kami bisa cek lebih lanjut, mohon infokan No. Pesanan Traveloka\\nkamu beserta bukti pembayaran kamu via DM ya. Terima kasih. -SY'],\n",
       " ['@hefihendri Hai, Hefi. Mohon maaf atas kendalanya. Agar kami bisa cek lebih lanjut, mohon\\ninfokan No. Pesanan Traveloka kamu via DM ya. Terima kasih. -SY'],\n",
       " ['@traveloka Akan lebih banyak air mata saat ngerti telah ditipu oleh @traveloka'],\n",
       " ['@notbadkuy Sudah mimin respon DM kamu lagi Kak. Terima kasih -DZ'],\n",
       " ['@traveloka Cek dm lgi ka'],\n",
       " ['@notbadkuy Sudah mimin respon DM kamu Kak. Terima kasih -DZ'],\n",
       " ['@traveloka @naljenal Cek dm min'],\n",
       " ['@naljenal Mimin tunggu loh ya pemesanan kamu kak.\\xa0😊 -DA'],\n",
       " ['@traveloka @senjatanuklir Harga akomodasi keluar dari jawa luar biasa yaa :))) wishlist dulu ya'],\n",
       " ['@shazzzha Hai Kak. Mohon maaf banget ya atas kendala kamu. Saat ini untuk pembelian tiket\\npesawat sedang mengalami perbaikan system kak. Mohon kesediaannya untuk dapat\\ndilakukan pengecekan secara berkala ya kak. Terima kasih. -DA'],\n",
       " ['@traveloka error terus mau pesen tiket pesawat dari jam 00.01'],\n",
       " ['@Haamdee Hai Kak Hamdi, apabila kamu memiliki kendala pada pemesanan kamu, silakan\\nsampaikan ke mimin di DM ya Kak, terima kaish. -NT'],\n",
       " ['@traveloka Dengan senang hati, kak. Aku menuju dm, ya!'],\n",
       " ['@bifrozt Sama-sama kak. Oh ya, mimin butuh survey kamu nih untuk meningkatkan kualitas\\npelayanan Traveloka. Boleh infoin alamat email kamu yang aktif via DM Kak? Mimin\\ntunggu konfirmasinya ya. Terima kasih. -DA'],\n",
       " ['@traveloka Terima kasih kak ^^'],\n",
       " ['@traveloka cek dm min thankyou'],\n",
       " ['@rossafosho Hai Kak Rosa. Untuk DM kamu sudah mimin balas ya. Mohon kesediaannya untuk\\nmelakukan pengecekan. Terima kasih. -DA'],\n",
       " ['@traveloka @senjatanuklir Ke Likupang aja kak, Bunaken udah ga se bagus duluuu'],\n",
       " ['@springberyl Hai Kak. DM kamu sudah mimin balas ya. Silakan dicek. -CA'],\n",
       " ['@traveloka Ditunggu balasannya kak'],\n",
       " ['@fadnov Mimin meluncur ke DM kamu ya Kak Fadli. Ditunggu 😊-TK'],\n",
       " ['@traveloka halo kak. Mohon cek DM'],\n",
       " ['@sbyfess 1. Beli pas low season\\n2. Giat mencari promo\\n3. Ikutan giveaway potongan harga di acara Live dll\\n4. Pake fitur buat ngsh tau kalo tiket lagi murah\\n\\nNah, semua itu tidak lain dan tidak bukan bisa kamu dapetin di aplikasi Traveloka🤭'],\n",
       " ['@thohirjassin Hai, Thohir. Mohon maaf sebelumnya ya. Supaya bisa dilakukan pengecekan lebih\\nlanjut, silakan diinfoin ya nomor pesanan Traveloka kamu melalui DM. Ditunggu ya\\nKak. Terima kasih. -IN'],\n",
       " ['@syakilamufida Ohh iya mimin butuh survey kamu nih untuk meningkatkan kualitas pelayanan\\nTraveloka. Boleh infoin alamat email akun Traveloka kamu via DM, Kak? Mimin\\ntunggu konfirmasinya ya. Makasih. -LA'],\n",
       " ['@syakilamufida Hai, Kak. Terima kasih juga sudah percaya dengan Traveloka ya. Have a nice day😉\\n-LA'],\n",
       " ['@lovelydeb_ Halo, Kak Pia. Mimin udah balas DM kamu yaaa. Yuk cek DM-nya 😊 -SM'],\n",
       " ['@traveloka Mimin cantik/ganteng, buka dm dong plis\\U0001f979'],\n",
       " ['@jhiyonatan Halo Yonatan, agar dapat mimin cek lebih lanjut, infokan email dan nomor ponsel\\nkamu melalui DM ya. Terima kasih. -OR'],\n",
       " ['@trxshh @traveloka haloo kak, saya jg dpt email yg sama nih, DM nya udah dijawab atau blm sama mereka? so, itu bener valid dan aman kah??'],\n",
       " ['@byutivi Sudah ya Kak, silakan dicek ya balasan mimin. Terima kasih. -IN'],\n",
       " ['@traveloka ka jawab dong naik pesawat perlu booster atau gaak'],\n",
       " ['@byutivi Oh iya nih Kak, mimin butuh survey kamu nih untuk meningkatkan kualitas\\npelayanan Traveloka. Boleh infoin alamat email akun Traveloka kamu melalui DM?\\nMimin tunggu konfirmasinya ya. Makasih. -IN'],\n",
       " ['@traveloka min untuk naik pesawat sekarang apakah masih dibutuhkan syarat minimal vaksin booster?'],\n",
       " ['@trxshh Hai, Kak. Untuk pengecekan lebih lanjut, silakan DM mimin email atau nomor\\ntelepon akun PayLater kamu. Mimin tunggu konfirmasinya. Terima kasih. -SM'],\n",
       " ['@astrianov19 Aamiin! Semoga segera terwujud di tahun 2023 ya, Kak Astria 💙 -AM'],\n",
       " ['@kuyaxs Semoga banyak hal baik yang datang ke kamu di tahun ini ya Kak 💙 -WR'],\n",
       " ['@aljeihateu @traveloka haloo, aku udah di refund sehari setelah lapor. coba km hubungin customer service traveloka pake apps nya yaa'],\n",
       " ['@traveloka halo admin minta tolong balas DM lagi yaah krn super urgent, thanks before 🥺🥺🥺🙏🏻🙏🏻🙏🏻'],\n",
       " ['@aljeihateu Hai, Kak. Jika kamu memiliki kendala salah transfer ke rekening Traveloka, mohon\\nhubungi mimin melalui DM serta lampirkan bukti bayarnya di DM ya, agar bisa\\ndibantu cek lebih lanjut. Terima kasih. -WR'],\n",
       " ['@rzkamlputrii @traveloka Maaf kak, uangnya sudah di refund,,?\\n soalnya saya jga punya masalah yg sama, salah tranfer ke rekening bni traveloka sudah lapor tapi masih panik'],\n",
       " ['@thendless_D @traveloka @hiro_ngelag BIAR DAPET HOTEL'],\n",
       " ['@wahyuadya Hai Kak Wahyu. Betul Kak. Kalo ada kendala atau pertanyaan, kamu bisa langsung\\nhubungi mimin melalui DM ya. Supaya bisa mimin bantu lebih lanjut. Terima kasih.\\n😊 -FR'],\n",
       " ['@mgfiratulistqmh @traveloka Selamat malam kak Fira, terkait dengan informasi perubahan jadwal maskapai kakak, bisa diinfomasikan secara langsung melalui pesan/inbox via traveloka Apps atau kakak bisa via email juga, agar bisa dilakukan lebih lanjut ya kak. Terima kasih :)'],\n",
       " ['@nekopurrin_ @traveloka min kok disini ga ada hotel bintang 100'],\n",
       " ['@NathArtistOwO @traveloka @hiro_ngelag BELL ANJER, KENAPA SAMPEK NGETAG TRAVELOKA 😭😭 mana ditanggepin'],\n",
       " ['@pencarioppa Hai Kak. Apabila ada pertanyaan bisa DM ke mimin ya. -CA'],\n",
       " ['@makannteyussss @traveloka Halo k mau tanya dong kakaknya udah tau belombaliknya uang atau ap?'],\n",
       " ['@susukhalal Ada yang bisa mimin bantu Kak? Kalo ada pertanyaan atau kendala kamu bisa\\ninfokan melalui DM ya Kak. Supaya bisa mimin bantu lebih lanjut. Terima kasih.\\n-FR'],\n",
       " ['@traveloka mana mimin AK nya? kenapa mimin FR yang bales 🧐'],\n",
       " ['@traveloka @hiro_ngelag WAH AKU DI NOTICE, MINTA HOTEL MIN'],\n",
       " ['@NathArtistOwO Hai Kak Bella, apabila kamu memiliki pertanyaan tentang pemesanan kamu, silakan\\nsampaikan detailnya melalui DM ya Kak, mimin tunggu. -NT'],\n",
       " ['@hiro_ngelag @traveloka Maap🙏biar dapet hotel bintang 100'],\n",
       " ['@NathArtistOwO @traveloka kebiasaan ngetag org lain ajr'],\n",
       " ['@hiro_ngelag @traveloka ada yang booking min'],\n",
       " ['@eurush_ Hai Kak, untuk dapat kami bantu cek pemesanan kamu yang terkendala, mohon\\ninformasikan detail bukti screenshot beserta rute dan tanggal perjalanan yang\\nkamu inginkan melalui DM Traveloka ya Kak. Ditunggu😊 -AK'],\n",
       " ['@kuchingtaimu @CommuterLine Padahal ayamnya mau berangkat kerja cari nafkah\\U0001f979\\U0001f979'],\n",
       " ['@traveloka @traveloka nama lengkap Novie Rumuy\\nAlamat email nrumuy@gmail.com'],\n",
       " ['@NovieRumuy Hai, Novie. Supaya bisa dilakukan pengecekan lebih lanjut, sialakn diinfoin ya\\nnama lengkap dan alamat email yang terdaftar pada akun PayLater kamu melalui DM.\\nDitunggu ya Kak. Terima kasih. -IN'],\n",
       " ['@traveloka kenapa sy memanfaatkan saldo paylater saya, lalu tiba2 saldo saya di turunkan, padahal sy membayar tepat waktu... apa manfaatnya paylater kalo tdk dimanfaatkan.... hapuskan aja produknya kalo bgtu...'],\n",
       " ['@traveloka Sudah saya DM yaa, mohon dibantu cek.. terimakasih min'],\n",
       " ['@freshappiness Hai Kak. Maaf sebelumnya, untuk dapat mimin bantu cek lebih lanjut infokan dulu yuk nomor pesanan Traveloka kamu via DM. Terima kasih. -RM'],\n",
       " ['@siiofyorluv AK itu singkatan nama mimin Kak. 😁 -FR'],\n",
       " ['@traveloka ak itu akuntansi atau apa 😵'],\n",
       " ['@diinoraurus DM kamu sudah mimin balas ya Kak. Silakan dicek🙏 -MZ'],\n",
       " ['@traveloka mohon bantuan, sudah saya DM 🙏'],\n",
       " ['@viqtinx @traveloka @BPerempuan Udah lewat kaka hehe'],\n",
       " ['@traveloka tahun ini jg masih bisa apply visa waiver ga min?'],\n",
       " ['@LJumardi Hai Kak Lucia, kendala kamu sudah mimin balas via DM ya. Silakan dicek. -NA'],\n",
       " ['@traveloka @uway__ Minimal skill 2 dulu min....maen ulti aja\\U0001fae0\\U0001fae0\\U0001fae0'],\n",
       " ['@traveloka Promo yang tidak ada gunanya mending promo. Ini dihapus, dibuat BDOBESTIE tapi hanya berlaku untuk Nam air dan sriwijaya sedangkan pesawat dari bandung tidak ada yang naik pesawat itu\\n\\nKalau tidak niat mending jangan berikan promo kak\\n\\nHanya berkoar koar saja apa yg bisa diambil'],\n",
       " ['@traveloka selamat pagi ka, mohon dibantu untuk di respon DM saya. Terimakasih 🙏🏼'],\n",
       " ['@Iexicone Mimin sudah balas via DM, Kak. Silakan dicek ya🙏 -MZ'],\n",
       " ['@_Utariyulianti Mimin meluncur ke DM ya, Kak Utari :) -VK'],\n",
       " ['@traveloka halo min, tolong cek dm'],\n",
       " ['@Iexicone Hai Megan. Sebelumnya mohon maaf atas ketidaknyamanannya. Supaya bisa mimin bantu cek lebih lanjut, mohon bantuannya infokan dahulu nomor pesanan Traveloka kamu ke DM ya. Terima kasih. -KK'],\n",
       " ['@hajelnuts Makasih Kak 💙  -AH'],\n",
       " ['@traveloka Mimin jugaa!!🤩\\U0001faf6🏻'],\n",
       " ['@dandelionsin1 Aamiin, semoga terwujud ya Kak. -AH'],\n",
       " ['@traveloka @woypriss Mimin nya udh siap tuh jadi temen traveling kamu man😁'],\n",
       " ['@llhamkomarudin Hai Kak, apabila kamu memiliki kendala atau pertanyaan silakan sampaikan pada mimin ya, terima kasih. -NT'],\n",
       " ['@traveloka Tolong...'],\n",
       " ['@warga_plus26 Sebenernya mimin juga lho Kak Gal😁 -KA'],\n",
       " ['@traveloka Kangen promo penerbangan ke Bali lagi min ♌😁'],\n",
       " ['@lightbluesvv Saluttt sama kakaknya😁🙌🙌🙌 -KA'],\n",
       " ['@traveloka Karena promo-promo kaliaannn😂'],\n",
       " ['@traveloka boleh² aja min asal ada pap karena no pic = hoax'],\n",
       " ['@yazwang Setelah mimin cek harga penerbangan dewasa dan anak sama Kak. Namun, harga yang tertera mengikuti yang diberikan maskapai ke Traveloka Kak. Terima kasih -DZ'],\n",
       " ['@traveloka Saya no debat ya bapak ibu, saya capek abis terombang ambing dilautan Maluku 27 jam, saya sudah dapat hotel lain, saya mau istirahat, no rekening sudah saya DM makasih ya'],\n",
       " ['@traveloka Untuk singapore airlines bagaimana kak? Apakah harga child sama dengan adult? Karena di web maskapai nya harga child lebih murah dari adult'],\n",
       " ['@GebbyErcha Halo Kak. Sebelumnya mohon maaf atas kendala yang kamu alami. Silakan informasikan nomor pesanan Traveloka dengan 9 digit angka melalui DM. Terima kasih. -SC'],\n",
       " ['@yazwang Hai Kak Wang, setiap maskapai punya kebijakan masing-masing terkait harga penumpang anak dan dewasa. Ada yang harganya sama dan ada yang berbeda ya Kak. Terima kasih -DZ']]"
      ]
     },
     "execution_count": 10,
     "metadata": {},
     "output_type": "execute_result"
    }
   ],
   "source": [
    "tweets"
   ]
  },
  {
   "cell_type": "code",
   "execution_count": null,
   "metadata": {},
   "outputs": [],
   "source": []
  }
 ],
 "metadata": {
  "kernelspec": {
   "display_name": "sentiment_app",
   "language": "python",
   "name": "python3"
  },
  "language_info": {
   "codemirror_mode": {
    "name": "ipython",
    "version": 3
   },
   "file_extension": ".py",
   "mimetype": "text/x-python",
   "name": "python",
   "nbconvert_exporter": "python",
   "pygments_lexer": "ipython3",
   "version": "3.10.8"
  },
  "orig_nbformat": 4,
  "vscode": {
   "interpreter": {
    "hash": "060cb0c314b72233d054837cbf7114a14e911c92ed126864d61595f4324447df"
   }
  }
 },
 "nbformat": 4,
 "nbformat_minor": 2
}
